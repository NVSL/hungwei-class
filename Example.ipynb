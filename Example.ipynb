{
 "cells": [
  {
   "cell_type": "code",
   "execution_count": 1,
   "id": "20cb5eba-01c6-491b-b182-48c9b7bd365d",
   "metadata": {
    "tags": []
   },
   "outputs": [],
   "source": [
    "%load_ext autoreload\n",
    "%autoreload 2"
   ]
  },
  {
   "cell_type": "code",
   "execution_count": 2,
   "id": "aa8b63c6-942f-465e-9453-e33637ad5a20",
   "metadata": {
    "tags": []
   },
   "outputs": [],
   "source": [
    "import delegate_function\n",
    "import cfiddle\n",
    "from cfiddle import *\n",
    "from hungwei import HungWeiExecutionMethod\n",
    "\n",
    "cfiddle.set_config(\"RunnerExecutionMethod_type\", HungWeiExecutionMethod)\n"
   ]
  },
  {
   "cell_type": "code",
   "execution_count": 3,
   "id": "b609a5e3-54c4-471f-9049-675d66ee8cc1",
   "metadata": {
    "tags": []
   },
   "outputs": [
    {
     "data": {
      "application/vnd.jupyter.widget-view+json": {
       "model_id": "431e79883a124625b817fad74635a223",
       "version_major": 2,
       "version_minor": 0
      },
      "text/plain": [
       "  0%|          | 0/1 [00:00<?, ?it/s]"
      ]
     },
     "metadata": {},
     "output_type": "display_data"
    },
    {
     "name": "stderr",
     "output_type": "stream",
     "text": [
      "salloc: Granted job allocation 343\n"
     ]
    },
    {
     "name": "stdout",
     "output_type": "stream",
     "text": [
      "  0%|          | 0/2 [00:00<?, ?it/s]\n",
      "hello from jynx\n",
      "hello from jynx\n",
      "42\n"
     ]
    },
    {
     "name": "stderr",
     "output_type": "stream",
     "text": [
      "salloc: Relinquishing job allocation 343\n"
     ]
    }
   ],
   "source": [
    "foo = r\"\"\"                                                                                                                                                                                                              \n",
    "#include\"cfiddle.hpp\"                                                                                                                                                                                                      \n",
    "#include<iostream>                                                                                                                                                                                                         \n",
    "#include <unistd.h>                                                                                                                                                                                                        \n",
    "                                                                                                                                                                                                                           \n",
    "extern \"C\" int foo() {                                                                                                                                                                                                     \n",
    "   start_measurement();                                                                                                                                                                                                    \n",
    "   char hostname[1024];                                                                                                                                                                                                    \n",
    "   gethostname(hostname, 1024);                                                                                                                                                                                            \n",
    "   std::cout << \"hello from \" << hostname << \"\\n\";                                                                                                                                                                          \n",
    "   end_measurement();                                                                                                                                                                                                      \n",
    "   return 42;                                                                                                                                                                                                              \n",
    "}                                                                                                                                                                                                                          \n",
    "\"\"\"\n",
    "\n",
    "b = build(code(foo))\n",
    "r = run(b, [\"foo\"], perf_counters=[[\"CYCLES\", \"INSTRUCTIONS\"], [\"PERF_COUNT_SW_CPU_CLOCK\",\"Cycles\"]])\n",
    "print(r[0].return_value)\n"
   ]
  },
  {
   "cell_type": "markdown",
   "id": "89045d99-5e46-4621-9355-0ef85def1fdd",
   "metadata": {},
   "source": [
    "It ran twice becasue we provided two sets of measurements to take.  Here's the results as a data frame:"
   ]
  },
  {
   "cell_type": "code",
   "execution_count": 4,
   "id": "e29799ab-5ed6-42d4-8fd5-098b606c3a01",
   "metadata": {
    "tags": []
   },
   "outputs": [
    {
     "data": {
      "text/html": [
       "<div>\n",
       "<style scoped>\n",
       "    .dataframe tbody tr th:only-of-type {\n",
       "        vertical-align: middle;\n",
       "    }\n",
       "\n",
       "    .dataframe tbody tr th {\n",
       "        vertical-align: top;\n",
       "    }\n",
       "\n",
       "    .dataframe thead th {\n",
       "        text-align: right;\n",
       "    }\n",
       "</style>\n",
       "<table border=\"1\" class=\"dataframe\">\n",
       "  <thead>\n",
       "    <tr style=\"text-align: right;\">\n",
       "      <th></th>\n",
       "      <th>function</th>\n",
       "      <th>ET</th>\n",
       "      <th>CYCLES</th>\n",
       "      <th>INSTRUCTIONS</th>\n",
       "      <th>PERF_COUNT_SW_CPU_CLOCK</th>\n",
       "      <th>Cycles</th>\n",
       "    </tr>\n",
       "  </thead>\n",
       "  <tbody>\n",
       "    <tr>\n",
       "      <th>0</th>\n",
       "      <td>foo</td>\n",
       "      <td>0.000006</td>\n",
       "      <td>9629.0</td>\n",
       "      <td>1704.0</td>\n",
       "      <td>NaN</td>\n",
       "      <td>NaN</td>\n",
       "    </tr>\n",
       "    <tr>\n",
       "      <th>1</th>\n",
       "      <td>foo</td>\n",
       "      <td>0.000008</td>\n",
       "      <td>NaN</td>\n",
       "      <td>NaN</td>\n",
       "      <td>5510.0</td>\n",
       "      <td>4853.0</td>\n",
       "    </tr>\n",
       "  </tbody>\n",
       "</table>\n",
       "</div>"
      ],
      "text/plain": [
       "  function        ET  CYCLES  INSTRUCTIONS  PERF_COUNT_SW_CPU_CLOCK  Cycles\n",
       "0      foo  0.000006  9629.0        1704.0                      NaN     NaN\n",
       "1      foo  0.000008     NaN           NaN                   5510.0  4853.0"
      ]
     },
     "execution_count": 4,
     "metadata": {},
     "output_type": "execute_result"
    }
   ],
   "source": [
    "r.as_df()"
   ]
  },
  {
   "cell_type": "code",
   "execution_count": null,
   "id": "8996e2c1-966b-4c6e-9c52-377d99b4a29d",
   "metadata": {},
   "outputs": [],
   "source": []
  }
 ],
 "metadata": {
  "kernelspec": {
   "display_name": "Python 3 (ipykernel)",
   "language": "python",
   "name": "python3"
  },
  "language_info": {
   "codemirror_mode": {
    "name": "ipython",
    "version": 3
   },
   "file_extension": ".py",
   "mimetype": "text/x-python",
   "name": "python",
   "nbconvert_exporter": "python",
   "pygments_lexer": "ipython3",
   "version": "3.8.10"
  }
 },
 "nbformat": 4,
 "nbformat_minor": 5
}
